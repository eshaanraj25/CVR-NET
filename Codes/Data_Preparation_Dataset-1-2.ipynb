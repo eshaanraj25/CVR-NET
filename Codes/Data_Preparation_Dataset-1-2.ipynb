{
 "cells": [
  {
   "cell_type": "markdown",
   "metadata": {
    "colab_type": "text",
    "id": "hHb01B3qlDyx"
   },
   "source": [
    "# CVR-Net: A deep convolutional neural network for coronavirus recognition from chest radiography images\n",
    "**Authors:** Md. Kamrul Hasan and Md. Ashraful Alam\n",
    "\n",
    "\n",
    "Corresponding Author- <br>\n",
    "**Md. Kamrul Hasan**  <br>\n",
    "Erasmus Scholar [2017-2019] <br>\n",
    "M.Sc. in Medical Imaging and Applications (MAIA)(https://maiamaster.udg.edu/ ) <br>\n",
    "& <br>\n",
    "Assistant Professor <br>\n",
    "Department of Electrical and Electronic Engineering (EEE) <br>\n",
    "Khulna University of Engineering & Technology (KUET) <br>\n",
    "Khulna-9203, Bangladesh <br>\n",
    "\n",
    "\n",
    "E-mail: kamruleeekuet@gmail.com or m.k.hasan@eee.kuet.ac.bd<br>\n",
    "G.Scholar: https://scholar.google.com/citations?user=36WXELIAAAAJ&hl=en\n",
    "\n",
    "\n",
    "**Md. Ashraful Alam**  <br>\n",
    "E-mail: ashrafulalam16e@gmail.com  <br>\n",
    "Github: https://github.com/ashraful16\n"
   ]
  },
  {
   "cell_type": "markdown",
   "metadata": {
    "colab_type": "text",
    "id": "LmNRgnwwlDyy"
   },
   "source": [
    "### Overview of this notebook\n",
    "\n",
    "To fold data for training, validation, and testing, at first, we have to merge\n",
    "data from single or multiple data sources, according to the class label.\n",
    "That means, we have to separate the merged dataset classwise and save them in different  folder.\n",
    "Finally, for each data class run this script and don't forget to change the source \n",
    "and destination directory according to the class. When the folded data is prepared, you can use it for training, validation, and testing for your experiment. We merged multiple datasets from [Kaggle](https://www.kaggle.com/paultimothymooney/chest-xray-pneumonia), [GitHub](https://github.com/ieee8023/covid-chestxray-dataset), and [MICCAI grand challenge](https://covid-ct.grand-challenge.org/), whose description is presented in the following table. \n",
    "\n",
    "|  Datasets |    Task types   |         Class Categories         |     No. of images    |\n",
    "|---------|---------------|--------------------------------|--------------------|\n",
    "|           |                 |           Normal (NOR)           |         5,856        |\n",
    "| Dataset-1 | Task-1: 2-class |    Novel Corona Positive (NCP)   |          500         |\n",
    "|           |                 |           Normal (NOR)           |         1,583        |\n",
    "|           | Task-2: 3-class |      Common Pneumonia (CPN)      |         4,273        |\n",
    "|           |                 |    Novel Corona Positive (NCP)   |          500         |\n",
    "|           |                 |           Normal (NOR)           |         1583         |\n",
    "|           |                 | Common Pneumonia Bacterial (CPB) |         2780         |\n",
    "|           | Task-3: 4-class |   Common Pneumonia Viral (CPV)   |         1493         |\n",
    "|           |                 |    Novel Corona Positive (NCP)   |          500         |\n",
    "|           |                 |           Normal (NOR)           |         1648         |\n",
    "| Dataset-2 | Task-4: 3-class |      Common Pneumonia (CPN)      |         4371         |\n",
    "|           |                 |    Novel Corona Positive (NCP)   |          500         |\n",
    "|           |                 |           Normal (NOR)           | Train/Test=292/105   |\n",
    "| Dataset-3 | Task-5: 2-class |    Novel Corona Positive (NCP)   |   Train/Test=251/98  |"
   ]
  },
  {
   "cell_type": "markdown",
   "metadata": {
    "colab_type": "text",
    "id": "_4sUO6RPlDyz"
   },
   "source": [
    "### Loading of different packagaes and APIs"
   ]
  },
  {
   "cell_type": "code",
   "execution_count": null,
   "metadata": {
    "colab": {},
    "colab_type": "code",
    "id": "yNnXTgK8lDy0"
   },
   "outputs": [],
   "source": [
    "import os\n",
    "from distutils.dir_util import copy_tree\n",
    "from sklearn.model_selection import StratifiedKFold\n",
    "from sklearn.model_selection import KFold\n",
    "import numpy as np\n",
    "import glob\n",
    "import shutil"
   ]
  },
  {
   "cell_type": "markdown",
   "metadata": {
    "colab_type": "text",
    "id": "8xWYWy-flDy3"
   },
   "source": [
    "### Define Source and Destination Directroy"
   ]
  },
  {
   "cell_type": "code",
   "execution_count": null,
   "metadata": {
    "colab": {},
    "colab_type": "code",
    "id": "nGyIoJenlDy3",
    "outputId": "91dc5295-6732-4889-8794-ca5a226ebc46"
   },
   "outputs": [
    {
     "data": {
      "text/plain": [
       "'C:\\\\Users\\\\ml\\\\Desktop\\\\covid_temp_data\\\\data\\\\train\\\\02_CPN'"
      ]
     },
     "execution_count": 3,
     "metadata": {
      "tags": []
     },
     "output_type": "execute_result"
    }
   ],
   "source": [
    "################################  define the directory of folded training data ######################\n",
    "desination_dir=os.getcwd()+\"\\\\Folded_CPN\"         #  define classwise directory for data folding\n",
    "os.mkdir(desination_dir) \n",
    "################################ define class wise raw data directory ###############################\n",
    "\n",
    "                '''  For different multiclass classification our target classes,\n",
    "                                    01_NOR, 02_NCP, \n",
    "                                01_NOR, 02_CPN, 03_NCP,\n",
    "                            01_NOR, 02_CPB, 03_CPV, 04_NCP,\n",
    "                '''\n",
    "\n",
    "train_class_dir=\"\\\\train\\\\02_CPN\"                 #  define classwise raw data directory \n",
    "base_dir=os.getcwd()+train_class_dir\n",
    "base_dir"
   ]
  },
  {
   "cell_type": "markdown",
   "metadata": {
    "colab_type": "text",
    "id": "iIfAJgrQlDy6"
   },
   "source": [
    "### Define data pattern and store matched data format files"
   ]
  },
  {
   "cell_type": "code",
   "execution_count": null,
   "metadata": {
    "colab": {},
    "colab_type": "code",
    "id": "CQMeF8XGlDy7",
    "outputId": "2fd4acb5-dc6a-4086-d6ae-f80face1f78f"
   },
   "outputs": [
    {
     "name": "stdout",
     "output_type": "stream",
     "text": [
      "Total image found in this class is 4273\n"
     ]
    }
   ],
   "source": [
    "######################  define the pattern to search recursively data from every folder  ##############\n",
    "im_pat= base_dir+'\\\\*.*' \n",
    "\n",
    "total_imgaes =len(glob.glob(im_pat, recursive=True))\n",
    "print('Total image found in this class is',total_imgaes)"
   ]
  },
  {
   "cell_type": "markdown",
   "metadata": {
    "colab_type": "text",
    "id": "Q_d8E91TlDy-"
   },
   "source": [
    "### Shuffle data "
   ]
  },
  {
   "cell_type": "code",
   "execution_count": null,
   "metadata": {
    "colab": {},
    "colab_type": "code",
    "id": "MS7zvYbHlDy-"
   },
   "outputs": [],
   "source": [
    "\n",
    "#########################  find every image directory and save into a list ############################\n",
    "image_names=[ x  for x in glob.glob(im_pat, recursive=True)]\n",
    "\n",
    "    \n",
    "### Create a list using the index of all images and shuffle it to ensure random selection of images####\n",
    "shuffle_indx=[X for X in range(len(image_names))]\n",
    "\n",
    "np.random.shuffle(shuffle_indx)"
   ]
  },
  {
   "cell_type": "code",
   "execution_count": null,
   "metadata": {
    "colab": {},
    "colab_type": "code",
    "id": "PgiL8opglDzA",
    "outputId": "5e166c05-d29a-4ddd-feea-f93a5be67a1b"
   },
   "outputs": [
    {
     "name": "stdout",
     "output_type": "stream",
     "text": [
      "3\n"
     ]
    }
   ],
   "source": [
    "############# Find the if there is any extra image while data is foled into five  ####################\n",
    "a=len(shuffle_indx)\n",
    "i=0\n",
    "if a%5!=0:\n",
    "    t_p=a\n",
    "    while True:\n",
    "        t_p=t_p-1\n",
    "        i+=1\n",
    "        \n",
    "        if t_p%5 ==0:\n",
    "            break\n",
    "        \n",
    "print(i)        "
   ]
  },
  {
   "cell_type": "markdown",
   "metadata": {
    "colab_type": "text",
    "id": "JAvACLeelDzD"
   },
   "source": [
    "### Slice list into five fold"
   ]
  },
  {
   "cell_type": "code",
   "execution_count": null,
   "metadata": {
    "colab": {},
    "colab_type": "code",
    "id": "NrdC5kjdlDzD"
   },
   "outputs": [],
   "source": [
    "########################### define the list index range of every fold ##################################\n",
    "sp1=int(len(shuffle_indx)/5)+i                # if there any extra image it goes to first fold\n",
    "sp2=int(len(shuffle_indx)/5)+sp1\n",
    "sp3=int(len(shuffle_indx)/5)+sp2\n",
    "sp4=int(len(shuffle_indx)/5)+sp3\n",
    "sp5=int(len(shuffle_indx)/5)+sp4\n",
    "\n",
    "########################### Slice the image list according to fold data range ##########################\n",
    "split1=shuffle_indx[:sp1]\n",
    "split2=shuffle_indx[sp1:sp2]\n",
    "split3=shuffle_indx[sp2:sp3]\n",
    "split4=shuffle_indx[sp3:sp4]\n",
    "split5=shuffle_indx[sp4:]"
   ]
  },
  {
   "cell_type": "code",
   "execution_count": null,
   "metadata": {
    "colab": {},
    "colab_type": "code",
    "id": "IG-DcvSKlDzG",
    "outputId": "557ba8cc-4e04-42a1-e0cb-e7d6ce797962"
   },
   "outputs": [
    {
     "data": {
      "text/plain": [
       "(857, 854, 854, 854, 854)"
      ]
     },
     "execution_count": 11,
     "metadata": {
      "tags": []
     },
     "output_type": "execute_result"
    }
   ],
   "source": [
    "print(len(split1),len(split2),len(split3),len(split4),len(split5)) # print the number of images in each fold"
   ]
  },
  {
   "cell_type": "markdown",
   "metadata": {
    "colab_type": "text",
    "id": "s01BiltplDzI"
   },
   "source": [
    "### Save every fold to the respective directory"
   ]
  },
  {
   "cell_type": "markdown",
   "metadata": {
    "colab_type": "text",
    "id": "aCiyjO3wlDzI"
   },
   "source": [
    "#### Fold 1"
   ]
  },
  {
   "cell_type": "code",
   "execution_count": null,
   "metadata": {
    "colab": {},
    "colab_type": "code",
    "id": "8SBTTO4GlDzJ"
   },
   "outputs": [],
   "source": [
    "################ Read images that are selected for first fold and save corresponding directoy ############\n",
    "for dirs in split1:\n",
    "    bas_dir=image_names[dirs]\n",
    "    des_dir=desination_dir+'\\\\Fold_1\\\\'\n",
    "    shutil.copy(bas_dir, des_dir)\n"
   ]
  },
  {
   "cell_type": "markdown",
   "metadata": {
    "colab_type": "text",
    "id": "_nxtstS8lDzM"
   },
   "source": [
    "#### Fold 2"
   ]
  },
  {
   "cell_type": "code",
   "execution_count": null,
   "metadata": {
    "colab": {},
    "colab_type": "code",
    "id": "8RMvb7EalDzM"
   },
   "outputs": [],
   "source": [
    "################ Read images that are selected for second fold and save corresponding directoy ############\n",
    "\n",
    "for dirs in split2:\n",
    "    bas_dir=image_names[dirs]\n",
    "    des_dir=desination_dir+'\\\\Fold_2\\\\'\n",
    "    shutil.copy(bas_dir, des_dir)\n"
   ]
  },
  {
   "cell_type": "markdown",
   "metadata": {
    "colab_type": "text",
    "id": "Au9cH5LylDzP"
   },
   "source": [
    "#### Fold 3"
   ]
  },
  {
   "cell_type": "code",
   "execution_count": null,
   "metadata": {
    "colab": {},
    "colab_type": "code",
    "id": "Kg9WYHdQlDzQ"
   },
   "outputs": [],
   "source": [
    "################ Read images that are selected for third fold and save corresponding directoy #############\n",
    "\n",
    "for dirs in split3:\n",
    "    bas_dir=image_names[dirs]\n",
    "    des_dir=desination_dir+'\\\\Fold_3\\\\'\n",
    "    shutil.copy(bas_dir, des_dir)\n"
   ]
  },
  {
   "cell_type": "markdown",
   "metadata": {
    "colab_type": "text",
    "id": "9WIkcAyIlDzS"
   },
   "source": [
    "#### Fold 4"
   ]
  },
  {
   "cell_type": "code",
   "execution_count": null,
   "metadata": {
    "colab": {},
    "colab_type": "code",
    "id": "67rE1sdnlDzT"
   },
   "outputs": [],
   "source": [
    "################ Read images that are selected for fourth fold and save corresponding directoy #############\n",
    "\n",
    "for dirs in split4:\n",
    "    bas_dir=image_names[dirs]\n",
    "    des_dir=desination_dir+'\\\\Fold_4\\\\'\n",
    "    shutil.copy(bas_dir, des_dir)\n"
   ]
  },
  {
   "cell_type": "markdown",
   "metadata": {
    "colab_type": "text",
    "id": "Jx_lskoFlDzV"
   },
   "source": [
    "#### Fold 5"
   ]
  },
  {
   "cell_type": "code",
   "execution_count": null,
   "metadata": {
    "colab": {},
    "colab_type": "code",
    "id": "MwZZWDSzlDzV",
    "outputId": "7c08dcdc-3d55-4f63-ccc2-4cafac498752"
   },
   "outputs": [
    {
     "name": "stdout",
     "output_type": "stream",
     "text": [
      "Data is divded into 5 fold successfully.\n"
     ]
    }
   ],
   "source": [
    "################ Read images that are selected for fifth fold and save corresponding directoy ##############\n",
    "\n",
    "for dirs in split5:\n",
    "    bas_dir=image_names[dirs]\n",
    "    des_dir=desination_dir+'\\\\Fold_5\\\\'\n",
    "    shutil.copy(bas_dir, des_dir)\n",
    "\n",
    "print(\"Data is divded into 5 fold successfully.\")"
   ]
  }
 ],
 "metadata": {
  "colab": {
   "name": "Data_Preparation_Dataset-1-2.ipynb",
   "provenance": []
  },
  "kernelspec": {
   "display_name": "Python 3",
   "language": "python",
   "name": "python3"
  },
  "language_info": {
   "codemirror_mode": {
    "name": "ipython",
    "version": 3
   },
   "file_extension": ".py",
   "mimetype": "text/x-python",
   "name": "python",
   "nbconvert_exporter": "python",
   "pygments_lexer": "ipython3",
   "version": "3.7.7"
  }
 },
 "nbformat": 4,
 "nbformat_minor": 1
}
