{
 "cells": [
  {
   "cell_type": "markdown",
   "metadata": {},
   "source": [
    "# CVR-Net: A deep convolutional neural network for coronavirus recognition from chest radiography images\n",
    "**Authors:** Md. Kamrul Hasan and Md. Ashraful Alam\n",
    "\n",
    "\n",
    "Corresponding Author- <br>\n",
    "**Md. Kamrul Hasan**  <br>\n",
    "Erasmus Scholar [2017-2019] <br>\n",
    "M.Sc. in Medical Imaging and Applications (MAIA)(https://maiamaster.udg.edu/ ) <br>\n",
    "& <br>\n",
    "Assistant Professor <br>\n",
    "Department of Electrical and Electronic Engineering (EEE) <br>\n",
    "Khulna University of Engineering & Technology (KUET) <br>\n",
    "Khulna-9203, Bangladesh <br>\n",
    "\n",
    "\n",
    "E-mail: kamruleeekuet@gmail.com or m.k.hasan@eee.kuet.ac.bd<br>\n",
    "G.Scholar: https://scholar.google.com/citations?user=36WXELIAAAAJ&hl=en\n",
    "\n",
    "\n",
    "**Md. Ashraful Alam**  <br>\n",
    "E-mail: ashrafulalam16e@gmail.com  <br>\n",
    "Github: https://github.com/ashraful16\n"
   ]
  },
  {
   "cell_type": "markdown",
   "metadata": {},
   "source": [
    "### Overview of this notebook\n",
    "\n",
    "In [MICCAI COVID-19](https://covid-ct.grand-challenge.org/)  challenge, the authority has fixed the training, validation, and testing CT images. For this, they provide three text files (training, testing, and validation ) for COVID and Non-COVID CT images, whose description is presented in the following table. Each text file contains the image IDs of that particular set (training, testing, or validation). So, using this text file we have to separate data, to evaluate the performance of the proposed CVR-Net.\n",
    "\n",
    "|  Datasets |    Task types   |         Class Categories         |     No. of images    |\n",
    "|---------|---------------|--------------------------------|--------------------|\n",
    "|           |                 |           Normal (NOR)           |         5,856        |\n",
    "| Dataset-1 | Task-1: 2-class |    Novel Corona Positive (NCP)   |          500         |\n",
    "|           |                 |           Normal (NOR)           |         1,583        |\n",
    "|           | Task-2: 3-class |      Common Pneumonia (CPN)      |         4,273        |\n",
    "|           |                 |    Novel Corona Positive (NCP)   |          500         |\n",
    "|           |                 |           Normal (NOR)           |         1583         |\n",
    "|           |                 | Common Pneumonia Bacterial (CPB) |         2780         |\n",
    "|           | Task-3: 4-class |   Common Pneumonia Viral (CPV)   |         1493         |\n",
    "|           |                 |    Novel Corona Positive (NCP)   |          500         |\n",
    "|           |                 |           Normal (NOR)           |         1648         |\n",
    "| Dataset-2 | Task-4: 3-class |      Common Pneumonia (CPN)      |         4371         |\n",
    "|           |                 |    Novel Corona Positive (NCP)   |          500         |\n",
    "|           |                 |           Normal (NOR)           | Train/Test=292/105   |\n",
    "| Dataset-3 | Task-5: 2-class |    Novel Corona Positive (NCP)   |   Train/Test=251/98  |"
   ]
  },
  {
   "cell_type": "markdown",
   "metadata": {},
   "source": [
    "### Loading of different packagaes and APIs"
   ]
  },
  {
   "cell_type": "code",
   "execution_count": 1,
   "metadata": {},
   "outputs": [],
   "source": [
    "import os\n",
    "import glob\n",
    "from PIL import Image  \n",
    "import PIL  "
   ]
  },
  {
   "cell_type": "markdown",
   "metadata": {},
   "source": [
    "### Read training image ids and save image for training"
   ]
  },
  {
   "cell_type": "code",
   "execution_count": 4,
   "metadata": {},
   "outputs": [
    {
     "name": "stdout",
     "output_type": "stream",
     "text": [
      "191 191\n"
     ]
    }
   ],
   "source": [
    "\n",
    "###################### define and make the directory for saving training images  ###########################\n",
    "create_dir=\"\\\\Split_data\\\\Covid\\\\\"+'train\\\\'\n",
    "final_dir=os.getcwd()+create_dir\n",
    "os.mkdir(final_dir)\n",
    "\n",
    "##############################  read the image ids for training data #######################################\n",
    "\n",
    "                                    # testCT_COVID.txt\n",
    "                                    # trainCT_COVID.txt\n",
    "                                    # valCT_COVID.txt\n",
    "            \n",
    "trl=os.getcwd()+'\\\\Data-split'+'\\\\COVID\\\\'+'trainCT_COVID.txt'\n",
    "file=open(trl,'r')\n",
    "################################### store images id to a array   ###########################################\n",
    "img_names=[]\n",
    "for lines in file:\n",
    "    a=lines.replace('\\n','')\n",
    "    img_names.append(a)\n",
    "    \n",
    "\n",
    "##################################   directory of raw data   ###############################################\n",
    "im_dir=os.getcwd()+'\\\\Images-processed\\\\CT_COVID\\\\CT_COVID\\\\'\n",
    "\n",
    "\n",
    "\n",
    "##############################  read image and save image to destination path ##############################\n",
    "ii=0\n",
    "for s_i in img_names:\n",
    "    ii+=1\n",
    "    im_read= Image.open(im_dir+s_i)\n",
    "    save_dir= final_dir +s_i\n",
    "    \n",
    "    im_read=im_read.save(save_dir)\n",
    "\n",
    "###################### check the number of saved images and total test id is equal or not #################### \n",
    "print(len(img_names),ii)"
   ]
  },
  {
   "cell_type": "markdown",
   "metadata": {},
   "source": [
    "### Read testing image ids and save image for testing"
   ]
  },
  {
   "cell_type": "code",
   "execution_count": 5,
   "metadata": {},
   "outputs": [
    {
     "name": "stdout",
     "output_type": "stream",
     "text": [
      "98 98\n"
     ]
    }
   ],
   "source": [
    "\n",
    "###################### define and make the directory for saving testing images  ###########################\n",
    "create_dir=\"\\\\Split_data\\\\Covid\\\\\"+'test\\\\'\n",
    "final_dir=os.getcwd()+create_dir\n",
    "os.mkdir(final_dir)\n",
    "\n",
    "\n",
    "##############################  read the image ids for testing data #######################################\n",
    "trl=os.getcwd()+'\\\\Data-split'+'\\\\COVID\\\\'+'testCT_COVID.txt'\n",
    "file=open(trl,'r')\n",
    "\n",
    "################################### store images id to a array   ###########################################\n",
    "img_names=[]\n",
    "for lines in file:\n",
    "    a=lines.replace('\\n','')\n",
    "    img_names.append(a)\n",
    "    \n",
    "\n",
    "##################################   directory of raw data   ###############################################    \n",
    "im_dir=os.getcwd()+'\\\\Images-processed\\\\CT_COVID\\\\CT_COVID\\\\'\n",
    "\n",
    "\n",
    "##############################  read image and save image to destination path ##############################\n",
    "ii=0\n",
    "for s_i in img_names:\n",
    "    ii+=1\n",
    "    im_read= Image.open(im_dir+s_i)\n",
    "    save_dir= final_dir +s_i\n",
    "    \n",
    "    im_read=im_read.save(save_dir)\n",
    "    \n",
    "###################### check the number of saved images and total test id is equal or not ####################   \n",
    "print(len(img_names),ii)"
   ]
  },
  {
   "cell_type": "markdown",
   "metadata": {},
   "source": [
    "### Read validation image ids and save image for validation"
   ]
  },
  {
   "cell_type": "code",
   "execution_count": 6,
   "metadata": {},
   "outputs": [
    {
     "name": "stdout",
     "output_type": "stream",
     "text": [
      "60 60\n"
     ]
    }
   ],
   "source": [
    "###################### define and make the directory for saving validation images  ##########################\n",
    "create_dir=\"\\\\Split_data\\\\Covid\\\\\"+'valid\\\\'\n",
    "final_dir=os.getcwd()+create_dir\n",
    "os.mkdir(final_dir)\n",
    "\n",
    "##############################  read the image ids for validation data #######################################\n",
    "trl=os.getcwd()+'\\\\Data-split'+'\\\\COVID\\\\'+'valCT_COVID.txt'\n",
    "\n",
    "file=open(trl,'r')\n",
    "\n",
    "################################### store images id to a array   ############################################\n",
    "img_names=[]\n",
    "for lines in file:\n",
    "    a=lines.replace('\\n','')\n",
    "    img_names.append(a)\n",
    "    \n",
    "##################################   directory of raw data   ################################################    \n",
    "im_dir=os.getcwd()+'\\\\Images-processed\\\\CT_COVID\\\\CT_COVID\\\\'\n",
    "\n",
    "##############################  read image and save image to destination path ###############################\n",
    "ii=0\n",
    "for s_i in img_names:\n",
    "    ii+=1\n",
    "    im_read= Image.open(im_dir+s_i)\n",
    "    save_dir= final_dir +s_i\n",
    "    \n",
    "    im_read=im_read.save(save_dir)\n",
    "###################### check the number of saved images and total test id is equal or not ####################     \n",
    "print(len(img_names),ii)"
   ]
  }
 ],
 "metadata": {
  "kernelspec": {
   "display_name": "Python 3",
   "language": "python",
   "name": "python3"
  },
  "language_info": {
   "codemirror_mode": {
    "name": "ipython",
    "version": 3
   },
   "file_extension": ".py",
   "mimetype": "text/x-python",
   "name": "python",
   "nbconvert_exporter": "python",
   "pygments_lexer": "ipython3",
   "version": "3.7.7"
  }
 },
 "nbformat": 4,
 "nbformat_minor": 4
}
